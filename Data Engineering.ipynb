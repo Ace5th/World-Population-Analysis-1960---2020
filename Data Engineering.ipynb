{
 "cells": [
  {
   "cell_type": "code",
   "execution_count": 1,
   "id": "a5356482",
   "metadata": {},
   "outputs": [],
   "source": [
    "import pandas as pd\n",
    "import numpy as np\n",
    "import re"
   ]
  },
  {
   "cell_type": "code",
   "execution_count": 2,
   "id": "b6be6aab",
   "metadata": {},
   "outputs": [],
   "source": [
    "world = pd.read_csv(\"raw_data.csv\")"
   ]
  },
  {
   "cell_type": "code",
   "execution_count": 3,
   "id": "6002e27c",
   "metadata": {},
   "outputs": [
    {
     "data": {
      "text/html": [
       "<div>\n",
       "<style scoped>\n",
       "    .dataframe tbody tr th:only-of-type {\n",
       "        vertical-align: middle;\n",
       "    }\n",
       "\n",
       "    .dataframe tbody tr th {\n",
       "        vertical-align: top;\n",
       "    }\n",
       "\n",
       "    .dataframe thead th {\n",
       "        text-align: right;\n",
       "    }\n",
       "</style>\n",
       "<table border=\"1\" class=\"dataframe\">\n",
       "  <thead>\n",
       "    <tr style=\"text-align: right;\">\n",
       "      <th></th>\n",
       "      <th>Unnamed: 0</th>\n",
       "      <th>country</th>\n",
       "      <th>year_1960</th>\n",
       "      <th>year_1961</th>\n",
       "      <th>year_1962</th>\n",
       "      <th>year_1963</th>\n",
       "      <th>year_1964</th>\n",
       "      <th>year_1965</th>\n",
       "      <th>year_1966</th>\n",
       "      <th>year_1967</th>\n",
       "      <th>...</th>\n",
       "      <th>year_2011</th>\n",
       "      <th>year_2012</th>\n",
       "      <th>year_2013</th>\n",
       "      <th>year_2014</th>\n",
       "      <th>year_2015</th>\n",
       "      <th>year_2016</th>\n",
       "      <th>year_2017</th>\n",
       "      <th>year_2018</th>\n",
       "      <th>year_2019</th>\n",
       "      <th>year_2020</th>\n",
       "    </tr>\n",
       "  </thead>\n",
       "  <tbody>\n",
       "    <tr>\n",
       "      <th>0</th>\n",
       "      <td>1</td>\n",
       "      <td>Afghanistan</td>\n",
       "      <td>8996967.0</td>\n",
       "      <td>9169406.0</td>\n",
       "      <td>9351442.0</td>\n",
       "      <td>9543200.0</td>\n",
       "      <td>9744772.0</td>\n",
       "      <td>9956318.0</td>\n",
       "      <td>10174840.0</td>\n",
       "      <td>10399936.0</td>\n",
       "      <td>...</td>\n",
       "      <td>30117411</td>\n",
       "      <td>31161378.0</td>\n",
       "      <td>32269592.0</td>\n",
       "      <td>33370804.0</td>\n",
       "      <td>34413603.0</td>\n",
       "      <td>35383028.0</td>\n",
       "      <td>36296111.0</td>\n",
       "      <td>37171922.0</td>\n",
       "      <td>38041757.0</td>\n",
       "      <td>38928341.0</td>\n",
       "    </tr>\n",
       "    <tr>\n",
       "      <th>1</th>\n",
       "      <td>2</td>\n",
       "      <td>Albania</td>\n",
       "      <td>1608800.0</td>\n",
       "      <td>1659800.0</td>\n",
       "      <td>1711319.0</td>\n",
       "      <td>1762621.0</td>\n",
       "      <td>1814135.0</td>\n",
       "      <td>1864791.0</td>\n",
       "      <td>1914573.0</td>\n",
       "      <td>1965598.0</td>\n",
       "      <td>...</td>\n",
       "      <td>2905195</td>\n",
       "      <td>2900401.0</td>\n",
       "      <td>2895092.0</td>\n",
       "      <td>2889104.0</td>\n",
       "      <td>2880703.0</td>\n",
       "      <td>2876101.0</td>\n",
       "      <td>2873457.0</td>\n",
       "      <td>2866376.0</td>\n",
       "      <td>2854191.0</td>\n",
       "      <td>2837743.0</td>\n",
       "    </tr>\n",
       "    <tr>\n",
       "      <th>2</th>\n",
       "      <td>3</td>\n",
       "      <td>Algeria</td>\n",
       "      <td>11057864.0</td>\n",
       "      <td>11336336.0</td>\n",
       "      <td>11619828.0</td>\n",
       "      <td>11912800.0</td>\n",
       "      <td>12221675.0</td>\n",
       "      <td>12550880.0</td>\n",
       "      <td>12902626.0</td>\n",
       "      <td>13275020.0</td>\n",
       "      <td>...</td>\n",
       "      <td>36661438</td>\n",
       "      <td>37383899.0</td>\n",
       "      <td>38140135.0</td>\n",
       "      <td>38923688.0</td>\n",
       "      <td>39728020.0</td>\n",
       "      <td>40551398.0</td>\n",
       "      <td>41389174.0</td>\n",
       "      <td>42228415.0</td>\n",
       "      <td>43053054.0</td>\n",
       "      <td>43851043.0</td>\n",
       "    </tr>\n",
       "    <tr>\n",
       "      <th>3</th>\n",
       "      <td>4</td>\n",
       "      <td>American Samoa</td>\n",
       "      <td>20127.0</td>\n",
       "      <td>20605.0</td>\n",
       "      <td>21246.0</td>\n",
       "      <td>22029.0</td>\n",
       "      <td>22850.0</td>\n",
       "      <td>23675.0</td>\n",
       "      <td>24473.0</td>\n",
       "      <td>25235.0</td>\n",
       "      <td>...</td>\n",
       "      <td>55755</td>\n",
       "      <td>55669.0</td>\n",
       "      <td>55717.0</td>\n",
       "      <td>55791.0</td>\n",
       "      <td>55806.0</td>\n",
       "      <td>55739.0</td>\n",
       "      <td>55617.0</td>\n",
       "      <td>55461.0</td>\n",
       "      <td>55312.0</td>\n",
       "      <td>55197.0</td>\n",
       "    </tr>\n",
       "    <tr>\n",
       "      <th>4</th>\n",
       "      <td>5</td>\n",
       "      <td>Andorra</td>\n",
       "      <td>13410.0</td>\n",
       "      <td>14378.0</td>\n",
       "      <td>15379.0</td>\n",
       "      <td>16407.0</td>\n",
       "      <td>17466.0</td>\n",
       "      <td>18542.0</td>\n",
       "      <td>19646.0</td>\n",
       "      <td>20760.0</td>\n",
       "      <td>...</td>\n",
       "      <td>83748</td>\n",
       "      <td>82427.0</td>\n",
       "      <td>80770.0</td>\n",
       "      <td>79213.0</td>\n",
       "      <td>77993.0</td>\n",
       "      <td>77295.0</td>\n",
       "      <td>76997.0</td>\n",
       "      <td>77008.0</td>\n",
       "      <td>77146.0</td>\n",
       "      <td>77265.0</td>\n",
       "    </tr>\n",
       "  </tbody>\n",
       "</table>\n",
       "<p>5 rows × 63 columns</p>\n",
       "</div>"
      ],
      "text/plain": [
       "   Unnamed: 0         country   year_1960   year_1961   year_1962   year_1963  \\\n",
       "0           1     Afghanistan   8996967.0   9169406.0   9351442.0   9543200.0   \n",
       "1           2         Albania   1608800.0   1659800.0   1711319.0   1762621.0   \n",
       "2           3         Algeria  11057864.0  11336336.0  11619828.0  11912800.0   \n",
       "3           4  American Samoa     20127.0     20605.0     21246.0     22029.0   \n",
       "4           5         Andorra     13410.0     14378.0     15379.0     16407.0   \n",
       "\n",
       "    year_1964   year_1965   year_1966   year_1967  ...  year_2011   year_2012  \\\n",
       "0   9744772.0   9956318.0  10174840.0  10399936.0  ...   30117411  31161378.0   \n",
       "1   1814135.0   1864791.0   1914573.0   1965598.0  ...    2905195   2900401.0   \n",
       "2  12221675.0  12550880.0  12902626.0  13275020.0  ...   36661438  37383899.0   \n",
       "3     22850.0     23675.0     24473.0     25235.0  ...      55755     55669.0   \n",
       "4     17466.0     18542.0     19646.0     20760.0  ...      83748     82427.0   \n",
       "\n",
       "    year_2013   year_2014   year_2015   year_2016   year_2017   year_2018  \\\n",
       "0  32269592.0  33370804.0  34413603.0  35383028.0  36296111.0  37171922.0   \n",
       "1   2895092.0   2889104.0   2880703.0   2876101.0   2873457.0   2866376.0   \n",
       "2  38140135.0  38923688.0  39728020.0  40551398.0  41389174.0  42228415.0   \n",
       "3     55717.0     55791.0     55806.0     55739.0     55617.0     55461.0   \n",
       "4     80770.0     79213.0     77993.0     77295.0     76997.0     77008.0   \n",
       "\n",
       "    year_2019   year_2020  \n",
       "0  38041757.0  38928341.0  \n",
       "1   2854191.0   2837743.0  \n",
       "2  43053054.0  43851043.0  \n",
       "3     55312.0     55197.0  \n",
       "4     77146.0     77265.0  \n",
       "\n",
       "[5 rows x 63 columns]"
      ]
     },
     "execution_count": 3,
     "metadata": {},
     "output_type": "execute_result"
    }
   ],
   "source": [
    "world.head()"
   ]
  },
  {
   "cell_type": "code",
   "execution_count": 4,
   "id": "d04bccf1",
   "metadata": {},
   "outputs": [],
   "source": [
    "world.drop(\"Unnamed: 0\", axis = 1, inplace = True)"
   ]
  },
  {
   "cell_type": "code",
   "execution_count": 6,
   "id": "3d14fce3",
   "metadata": {},
   "outputs": [],
   "source": [
    "world = world.melt(id_vars=[\"country\"], \n",
    "        var_name=\"year\", \n",
    "        value_name=\"population\")"
   ]
  },
  {
   "cell_type": "code",
   "execution_count": 53,
   "id": "d5ea9874",
   "metadata": {},
   "outputs": [],
   "source": [
    "def alter_year(year):\n",
    "    pattern = r'[...\\d]'\n",
    "    clean = re.findall(pattern, year)\n",
    "    final = \"\".join(clean)\n",
    "    return final"
   ]
  },
  {
   "cell_type": "code",
   "execution_count": 56,
   "id": "5ac2abaa",
   "metadata": {},
   "outputs": [],
   "source": [
    "world[\"year\"] = world[\"year\"].apply(alter_year)"
   ]
  },
  {
   "cell_type": "code",
   "execution_count": 59,
   "id": "916b7423",
   "metadata": {},
   "outputs": [
    {
     "data": {
      "text/plain": [
       "country        0\n",
       "year           0\n",
       "population    42\n",
       "dtype: int64"
      ]
     },
     "execution_count": 59,
     "metadata": {},
     "output_type": "execute_result"
    }
   ],
   "source": [
    "world.isnull().sum()"
   ]
  },
  {
   "cell_type": "code",
   "execution_count": 60,
   "id": "678e4ad3",
   "metadata": {},
   "outputs": [],
   "source": [
    "world.dropna(inplace = True)"
   ]
  },
  {
   "cell_type": "code",
   "execution_count": 62,
   "id": "acf25615",
   "metadata": {},
   "outputs": [
    {
     "data": {
      "text/plain": [
       "country       0\n",
       "year          0\n",
       "population    0\n",
       "dtype: int64"
      ]
     },
     "execution_count": 62,
     "metadata": {},
     "output_type": "execute_result"
    }
   ],
   "source": [
    "world.isnull().sum()"
   ]
  },
  {
   "cell_type": "code",
   "execution_count": 65,
   "id": "901714d7",
   "metadata": {},
   "outputs": [],
   "source": [
    "world[\"year\"] = world[\"year\"].astype(\"int\")"
   ]
  },
  {
   "cell_type": "code",
   "execution_count": 66,
   "id": "95fccc6e",
   "metadata": {},
   "outputs": [],
   "source": [
    "world[\"population\"] = world[\"population\"].astype(\"int\")"
   ]
  },
  {
   "cell_type": "code",
   "execution_count": 89,
   "id": "dc83f880",
   "metadata": {},
   "outputs": [
    {
     "data": {
      "text/html": [
       "<div>\n",
       "<style scoped>\n",
       "    .dataframe tbody tr th:only-of-type {\n",
       "        vertical-align: middle;\n",
       "    }\n",
       "\n",
       "    .dataframe tbody tr th {\n",
       "        vertical-align: top;\n",
       "    }\n",
       "\n",
       "    .dataframe thead th {\n",
       "        text-align: right;\n",
       "    }\n",
       "</style>\n",
       "<table border=\"1\" class=\"dataframe\">\n",
       "  <thead>\n",
       "    <tr style=\"text-align: right;\">\n",
       "      <th></th>\n",
       "      <th>country</th>\n",
       "      <th>year</th>\n",
       "      <th>population</th>\n",
       "    </tr>\n",
       "  </thead>\n",
       "  <tbody>\n",
       "    <tr>\n",
       "      <th>0</th>\n",
       "      <td>Afghanistan</td>\n",
       "      <td>1960</td>\n",
       "      <td>8996967</td>\n",
       "    </tr>\n",
       "    <tr>\n",
       "      <th>1</th>\n",
       "      <td>Albania</td>\n",
       "      <td>1960</td>\n",
       "      <td>1608800</td>\n",
       "    </tr>\n",
       "    <tr>\n",
       "      <th>2</th>\n",
       "      <td>Algeria</td>\n",
       "      <td>1960</td>\n",
       "      <td>11057864</td>\n",
       "    </tr>\n",
       "    <tr>\n",
       "      <th>3</th>\n",
       "      <td>American Samoa</td>\n",
       "      <td>1960</td>\n",
       "      <td>20127</td>\n",
       "    </tr>\n",
       "    <tr>\n",
       "      <th>4</th>\n",
       "      <td>Andorra</td>\n",
       "      <td>1960</td>\n",
       "      <td>13410</td>\n",
       "    </tr>\n",
       "    <tr>\n",
       "      <th>...</th>\n",
       "      <td>...</td>\n",
       "      <td>...</td>\n",
       "      <td>...</td>\n",
       "    </tr>\n",
       "    <tr>\n",
       "      <th>13171</th>\n",
       "      <td>Virgin Islands (U.S.)</td>\n",
       "      <td>2020</td>\n",
       "      <td>106290</td>\n",
       "    </tr>\n",
       "    <tr>\n",
       "      <th>13172</th>\n",
       "      <td>West Bank and Gaza</td>\n",
       "      <td>2020</td>\n",
       "      <td>4803269</td>\n",
       "    </tr>\n",
       "    <tr>\n",
       "      <th>13173</th>\n",
       "      <td>Yemen, Rep.</td>\n",
       "      <td>2020</td>\n",
       "      <td>29825968</td>\n",
       "    </tr>\n",
       "    <tr>\n",
       "      <th>13174</th>\n",
       "      <td>Zambia</td>\n",
       "      <td>2020</td>\n",
       "      <td>18383956</td>\n",
       "    </tr>\n",
       "    <tr>\n",
       "      <th>13175</th>\n",
       "      <td>Zimbabwe</td>\n",
       "      <td>2020</td>\n",
       "      <td>14862927</td>\n",
       "    </tr>\n",
       "  </tbody>\n",
       "</table>\n",
       "<p>13134 rows × 3 columns</p>\n",
       "</div>"
      ],
      "text/plain": [
       "                     country  year  population\n",
       "0                Afghanistan  1960     8996967\n",
       "1                    Albania  1960     1608800\n",
       "2                    Algeria  1960    11057864\n",
       "3             American Samoa  1960       20127\n",
       "4                    Andorra  1960       13410\n",
       "...                      ...   ...         ...\n",
       "13171  Virgin Islands (U.S.)  2020      106290\n",
       "13172     West Bank and Gaza  2020     4803269\n",
       "13173            Yemen, Rep.  2020    29825968\n",
       "13174                 Zambia  2020    18383956\n",
       "13175               Zimbabwe  2020    14862927\n",
       "\n",
       "[13134 rows x 3 columns]"
      ]
     },
     "execution_count": 89,
     "metadata": {},
     "output_type": "execute_result"
    }
   ],
   "source": [
    "world"
   ]
  },
  {
   "cell_type": "code",
   "execution_count": null,
   "id": "2e34fe2c",
   "metadata": {},
   "outputs": [],
   "source": [
    "world.to_csv(\"clean_data.csv\", index = False)"
   ]
  }
 ],
 "metadata": {
  "kernelspec": {
   "display_name": "Python 3 (ipykernel)",
   "language": "python",
   "name": "python3"
  },
  "language_info": {
   "codemirror_mode": {
    "name": "ipython",
    "version": 3
   },
   "file_extension": ".py",
   "mimetype": "text/x-python",
   "name": "python",
   "nbconvert_exporter": "python",
   "pygments_lexer": "ipython3",
   "version": "3.9.12"
  }
 },
 "nbformat": 4,
 "nbformat_minor": 5
}

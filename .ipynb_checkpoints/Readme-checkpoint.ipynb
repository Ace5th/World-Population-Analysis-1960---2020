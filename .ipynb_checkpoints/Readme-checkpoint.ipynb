{
 "cells": [
  {
   "cell_type": "markdown",
   "id": "b4131481",
   "metadata": {},
   "source": [
    "# World Population Exploratory Analysis 1960 - 2020"
   ]
  },
  {
   "cell_type": "markdown",
   "id": "f5025011",
   "metadata": {},
   "source": [
    "Dataset source: https://www.kaggle.com/datasets/utkarshx27/world-population-data-1960-2020\n",
    "Description: Dataset from World Bank about population of countries from 1960 to 2020"
   ]
  },
  {
   "cell_type": "markdown",
   "id": "21b2ebee",
   "metadata": {},
   "source": [
    "This project is focused on cleaning the data and then doing some basic data exploration on the data"
   ]
  },
  {
   "cell_type": "markdown",
   "id": "de3b3a39",
   "metadata": {},
   "source": [
    "Some insights that can be extracted from the dataset are:\n",
    "1. Most (5) of the top 10 country with the highest total population in the world is located in Asia (Excluding Russia)\n",
    "2. Most (4) of the top 10 country with the lowest total population in the world is located in America (As a continent, both south and north)\n",
    "3. Global population is increasing every year\n",
    "4. There was an explosion of global population growth rate around 1960 - 1964\n",
    "5. After 1970, The growth rate of global population is continually decreasing"
   ]
  }
 ],
 "metadata": {
  "kernelspec": {
   "display_name": "Python 3 (ipykernel)",
   "language": "python",
   "name": "python3"
  },
  "language_info": {
   "codemirror_mode": {
    "name": "ipython",
    "version": 3
   },
   "file_extension": ".py",
   "mimetype": "text/x-python",
   "name": "python",
   "nbconvert_exporter": "python",
   "pygments_lexer": "ipython3",
   "version": "3.9.12"
  }
 },
 "nbformat": 4,
 "nbformat_minor": 5
}
